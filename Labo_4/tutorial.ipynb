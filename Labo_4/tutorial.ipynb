{
 "cells": [
  {
   "cell_type": "markdown",
   "metadata": {},
   "source": [
    "# Introduction and objectives"
   ]
  },
  {
   "cell_type": "markdown",
   "metadata": {},
   "source": [
    "This lab session introduces Support Vector Machines for mining the troves of data tucked away at Twitter and classifying these tweets. \n",
    "\n",
    "Automatic event detection is a highly relevant research topic. In the context of sports, this often means identifying the highlights of a sports game. Twitter is a very good medium to identify the highlights of a game. During this lab, we will try to identify events that happened during a soccer game. Afterwards, we will try to adapt the algorithm for identifying highlights in a cycling race. The core of the algorithm will be a Support Vector Machine.\n",
    "\n",
    "The goal of this lab is to:\n",
    "\n",
    "> Recognize events during sports games using a 2-step algorithm\n",
    "\n",
    "> Make use of a Support Vector Machine (SVM) for classification of tweets\n",
    "\n",
    "> Understand the pitfalls of designing a generic algorithm that should be applicable to previously unseen content\n",
    "\n",
    "To run the code, be sure that the libraries Scikit-learn and matplotlib are installed on your system. Python 2.7 is used in this exercise.\n",
    "\n",
    "During the first 5 exercises, you will not program a lot. It is important that you try to understand the code and the design process of the algorithm because you will need to adapt it in Exercise 6."
   ]
  },
  {
   "cell_type": "markdown",
   "metadata": {},
   "source": [
    "# Exercise 1: Familiarizing with soccer data"
   ]
  },
  {
   "cell_type": "markdown",
   "metadata": {},
   "source": [
    "The first task is to visualize the Twitter data on a time line. Often patterns can already be deduced this way. A file of tweets is given, containing $33565$ tweets that were sent during the game Tottenham - Manchester United with hashtag #MUFC. The game started at $17:11:43$ on television. The file is called `soccer_tweets.tsv`. Each line contains a date, user name and tweet. You can load the tweets using the function `readTsvFile(name)` which is defined below. We also define some other important classes and methods that we'll use during the exercise."
   ]
  },
  {
   "cell_type": "code",
   "execution_count": 1,
   "metadata": {},
   "outputs": [],
   "source": [
    "from datetime import datetime\n",
    "\n",
    "class GameReader:\n",
    "    # read TSV file quick and dirty\n",
    "    @staticmethod\n",
    "    def readTsvFile(name):\n",
    "        file_to_read=open(name,'r')\n",
    "        list_of_tweets=[]\n",
    "        for line in file_to_read:\n",
    "            split_tabs=line.split('\\t')\n",
    "            if len(split_tabs)>=3:\n",
    "                list_of_tweets.append(Tweet(split_tabs[2],_date=split_tabs[0],_user=split_tabs[1]))\n",
    "        return list_of_tweets\n",
    "\n",
    "class AnnotationReader:\n",
    "    # read TSV file quick and dirty\n",
    "    @staticmethod\n",
    "    def readTsvFile(name):\n",
    "        file_to_read=open(name,'r')\n",
    "        list_of_tweets=[]\n",
    "        for line in file_to_read:\n",
    "            split_tabs=line.split('\\t')\n",
    "            if len(split_tabs)>=2:\n",
    "                list_of_tweets.append(Tweet(split_tabs[1],_label=split_tabs[0]))\n",
    "        return list_of_tweets\n",
    "\n",
    "class PlayerReader:\n",
    "    # read TSV file quick and dirty\n",
    "    @staticmethod\n",
    "    def readTsvFile(name):\n",
    "        file_to_read=open(name,'r')\n",
    "        list_of_players=[]\n",
    "        for line in file_to_read:\n",
    "            split_tabs=line.split('\\t')\n",
    "            if len(split_tabs)>=4:\n",
    "                \n",
    "                firstnames=split_tabs[0].split(' ')\n",
    "                for i in range(len(firstnames)):\n",
    "                    firstnames[i]=firstnames[i].replace('#',' ').lower() \n",
    "                lastnames=split_tabs[1].split(' ')\n",
    "                for i in range(len(lastnames)):\n",
    "                    lastnames[i]=lastnames[i].replace('#',' ').lower() \n",
    "                list_of_players.append(Player(firstnames,lastnames,int(split_tabs[2]),split_tabs[3][:-1]))\n",
    "        return list_of_players\n",
    "\n",
    "class TeamReader:\n",
    "    # read TSV file quick and dirty\n",
    "    @staticmethod\n",
    "    def readTsvFile(name):\n",
    "        file_to_read=open(name,'r')\n",
    "        list_of_teams=[]\n",
    "        for line in file_to_read:\n",
    "            split_tabs=line.split('\\t')\n",
    "            if len(split_tabs)>=3:\n",
    "                list_of_teams.append(Team(int(split_tabs[0]),split_tabs[1],split_tabs[2][:-1]))\n",
    "        return list_of_teams\n",
    "\n",
    "class Tweet:\n",
    "    def __init__(self, _tweet,_date=\"1900-01-01 00:00:00\", _user=\"\",_label=0):\n",
    "        self.date=datetime.strptime(_date,\"%Y-%m-%d %H:%M:%S\")\n",
    "        self.user=_user\n",
    "        self.tweet=_tweet.rstrip('\\n')\n",
    "        self.label=int(_label)\n",
    "\n",
    "\n",
    "\n",
    "class Player:\n",
    "    def __init__(self,_firstnames,_lastnames,_team_nr,_position):\n",
    "        self.firstnames=_firstnames #list\n",
    "        self.lastnames=_lastnames #list\n",
    "        self.team_nr=_team_nr\n",
    "        self.position=_position\n",
    "\n",
    "class Team:\n",
    "    def __init__(self,_team_nr,_team_name,_hashtag):\n",
    "        self.team_nr=_team_nr\n",
    "        self.team_name=_team_name\n",
    "        self.hashtag=_hashtag"
   ]
  },
  {
   "cell_type": "markdown",
   "metadata": {},
   "source": [
    "Let's read the contents of the file."
   ]
  },
  {
   "cell_type": "code",
   "execution_count": 2,
   "metadata": {},
   "outputs": [],
   "source": [
    "tweetData = GameReader.readTsvFile('./soccer_tweets.tsv')"
   ]
  },
  {
   "cell_type": "code",
   "execution_count": 3,
   "metadata": {},
   "outputs": [
    {
     "name": "stdout",
     "output_type": "stream",
     "text": [
      "33564\n",
      "<__main__.Tweet instance at 0x0000000005398C08>\n",
      "RT @premierleague: Manchester United starting line-up: De Gea, Evra, Jones, Ferdinand, Evans, Carrick, Nani, Young, Scholes, Rooney, Wel ...\n"
     ]
    }
   ],
   "source": [
    "print(len(tweetData))\n",
    "print(tweetData[0])\n",
    "print(tweetData[3].tweet)"
   ]
  },
  {
   "cell_type": "markdown",
   "metadata": {},
   "source": [
    "Now we visualize the tweets. However before that we set the starttime and end time of the game which will be treated as \"constants\" for the rest of the exercise."
   ]
  },
  {
   "cell_type": "code",
   "execution_count": 4,
   "metadata": {},
   "outputs": [],
   "source": [
    "# enter start date of game\n",
    "START_TIME = datetime.strptime(\"2012-03-04 17:11:43\",\"%Y-%m-%d %H:%M:%S\")\n",
    "# we set the duration of the game to 2 hours\n",
    "END_TIME = datetime.strptime(\"2012-03-04 19:11:43\",\"%Y-%m-%d %H:%M:%S\")"
   ]
  },
  {
   "cell_type": "markdown",
   "metadata": {},
   "source": [
    "For visualizations, we'll be using matplotlib library. We are going to plot the tweet volume as a of time. The plot shows the number of tweets per minute. "
   ]
  },
  {
   "cell_type": "code",
   "execution_count": 6,
   "metadata": {},
   "outputs": [
    {
     "data": {
      "image/png": "[encoded data removed]",
      "text/plain": [
       "<Figure size 432x288 with 1 Axes>"
      ]
     },
     "metadata": {},
     "output_type": "display_data"
    }
   ],
   "source": [
    "import matplotlib.pyplot as plt\n",
    "\n",
    "#initialize list of minutes\n",
    "N_points_min = (END_TIME - START_TIME).seconds / 60\n",
    "points_of_graph_min = [0]*int(N_points_min)\n",
    "\n",
    "for tweet in tweetData:\n",
    "    if tweet.date < START_TIME or tweet.date >= END_TIME:\n",
    "        continue \n",
    "    # compute difference of dates, in seconds\n",
    "    time_delta = tweet.date - START_TIME\n",
    "    # calculate minute sent during the game\n",
    "    minute = time_delta.seconds / 60\n",
    "    \n",
    "    # increase per minute count\n",
    "    points_of_graph_min[int(minute)] += 1\n",
    "\n",
    "plt.plot(range(int(N_points_min)), points_of_graph_min)\n",
    "plt.ylabel('Tweet volume')\n",
    "plt.xlabel('Minute')\n",
    "plt.show()"
   ]
  },
  {
   "cell_type": "markdown",
   "metadata": {},
   "source": [
    "###### Describe the shape of the graph and try to explain in detail the reason why the graph looks like this?\n",
    "\n",
    "Confirm your hypotheses from the data that you just used. "
   ]
  },
  {
   "cell_type": "markdown",
   "metadata": {},
   "source": [
    "> When something happens, more tweets are sent."
   ]
  },
  {
   "cell_type": "markdown",
   "metadata": {},
   "source": [
    "# Exercise 2: Determining events during a soccer game in Twitter"
   ]
  },
  {
   "cell_type": "markdown",
   "metadata": {},
   "source": [
    "We'll use the peculiar shape of the previous graph to detect events during the game. That is, we can make use of the sudden rise in the tweet volume to detect events during a soccer game. The idea is that if the tweet volume rises with factor x in a short time span, an event has happened. We can define this time span as a search window and compare the tweet volume in the first half of the search window with the tweet volume in the second half of the search window. Stated more formally, an event is detected when:\n",
    "\n",
    "$$\\frac{\\text{number of tweets} \\in \\text{second half search window}}{\\text{number of tweets} \\in \\text{first half search window}} > \\delta_1$$\n",
    "\n",
    "The most optimal threshold $\\delta_1$ and search window size $\\Delta T$ should be determined via experiment. The value of $\\delta_1$ determines how steep the increase of the tweet volume should be to detect an event. The value of $\\Delta T$ is determined by a number of criteria such as the general tweet volume of the game, being sensitive to bursts and being able to detect an event.\n"
   ]
  },
  {
   "cell_type": "markdown",
   "metadata": {
    "collapsed": true
   },
   "source": [
    "The purpose of this and the next exercises is to detect soccer goals. The following goal events were reported in the Twitter data starting around a certain point of time:\n",
    "\n",
    "> $17:56:20$ Wayne Rooney scores for Manchester United $(0-1)$\n",
    "\n",
    "> $18:28:30$ Ashley Young scores for Manchester United $(0-2)$\n",
    "\n",
    "> $18:36:55$ Ashley Young scores for Manchester United $(0-3)$\n",
    "\n",
    "> $18:55:55$ Jermain Defoe scores for Tottenham $(1-3)$\n",
    "\n",
    "Try to tweak the values of $\\delta_1$ and $\\Delta T$ such that at least all three goals of Manchester United could be detected using the search window. This means that at least one increase in tweet volume is detected around the time each goal was scored, containing some tweets that report a goal was scored."
   ]
  },
  {
   "cell_type": "markdown",
   "metadata": {},
   "source": [
    "Below we define some helper functions."
   ]
  },
  {
   "cell_type": "code",
   "execution_count": 6,
   "metadata": {},
   "outputs": [],
   "source": [
    "from __future__ import division\n",
    "import re\n",
    "\n",
    "class CustomFeatureExtractor:\n",
    "    \n",
    "    def countExclamationMarks(self,text):\n",
    "        return text.count('!')\n",
    "\n",
    "    def countWordsInCapitalLetters(self,text):\n",
    "        words=text.split(\" \")\n",
    "        number=0\n",
    "        for word in words:\n",
    "            if word.upper()==word:\n",
    "                number+=1\n",
    "        return number\n",
    "\n",
    "    def Ex4CustomFeature(self,text):\n",
    "        total = 0\n",
    "        start = 0\n",
    "        there = re.compile('\\d-\\d')\n",
    "        while True:\n",
    "            mo = there.search(text, start)\n",
    "            if mo is None: return total\n",
    "            total += 1\n",
    "            start = 1 + mo.start()"
   ]
  },
  {
   "cell_type": "code",
   "execution_count": 7,
   "metadata": {},
   "outputs": [],
   "source": [
    "def sum_window(array, begin_index, end_index):\n",
    "    sum=0\n",
    "    for i in range(begin_index,end_index):\n",
    "        sum+=array[i]\n",
    "    return sum"
   ]
  },
  {
   "cell_type": "markdown",
   "metadata": {},
   "source": [
    "Below we define some pre-processor functions. You might have to update the location of `players.tsv` and `teams.tsv` files in the `__init__()`."
   ]
  },
  {
   "cell_type": "code",
   "execution_count": 8,
   "metadata": {},
   "outputs": [],
   "source": [
    "import re\n",
    "\n",
    "class PreProcessor:\n",
    "\n",
    "    def __init__(self):\n",
    "        self.list_of_players=PlayerReader.readTsvFile(\"./players.tsv\")\n",
    "        self.preProcessPlayers()\n",
    "        self.list_of_teams=TeamReader.readTsvFile(\"./teams.tsv\")\n",
    "        self.preProcessHashtags()\n",
    "\n",
    "    def preProcess(self,text):\n",
    "        #text = self.removeRepetition(text)\n",
    "        #text = self.replacePlayers(text)\n",
    "        text = self.replaceHashtags(text)\n",
    "        return text\n",
    "\n",
    "    def removeRepetition(self,text):\n",
    "        return re.sub(r'([a-zA-Z])\\1+', r'\\1', text)\n",
    "    \n",
    "    def replacePlayers(self,text):\n",
    "        words=text.split(' ')\n",
    "        return_text=\"\"\n",
    "        for word in words:\n",
    "            if self.isFirstName(word):\n",
    "                return_text+=\"_F_PLAYERNAME_\"+\" \"\n",
    "            elif self.isLastName(word):\n",
    "                return_text+=\"_L_PLAYERNAME_\"+\" \"\n",
    "            else:\n",
    "                return_text+=word+\" \"\n",
    "        return return_text\n",
    "\n",
    "    def replaceHashtags(self,text):\n",
    "        words=text.split(' ')\n",
    "        return_text=\"\"\n",
    "        for word in words:\n",
    "            if self.isHashtag(word):\n",
    "                return_text+=\"_TEAM_HASHTAG_\"+\" \"\n",
    "            else:\n",
    "                return_text+=word+\" \"\n",
    "        return return_text\n",
    "\n",
    "    def isFirstName(self,word):\n",
    "        for player in self.list_of_players:\n",
    "            if word.lower() in player.firstnames:\n",
    "                return 1\n",
    "        return 0\n",
    "\n",
    "    def isLastName(self,word):\n",
    "        for player in self.list_of_players:\n",
    "            if word.lower() in player.lastnames:\n",
    "                return 1\n",
    "        return 0\n",
    "\n",
    "    def isHashtag(self,word):\n",
    "        for team in self.list_of_teams:\n",
    "            if word.lower() in team.hashtag:\n",
    "                return 1\n",
    "        return 0\n",
    "\n",
    "    def preProcessPlayers(self):\n",
    "        for player_it in range(len(self.list_of_players)):\n",
    "            for i in range(len(self.list_of_players[player_it].firstnames)):\n",
    "                self.list_of_players[player_it].firstnames[i]=self.removeRepetition(self.list_of_players[player_it].firstnames[i]).lower()\n",
    "            for i in range(len(self.list_of_players[player_it].lastnames)):\n",
    "                self.list_of_players[player_it].lastnames[i]=self.removeRepetition(self.list_of_players[player_it].lastnames[i]).lower()\n",
    "\n",
    "    def preProcessHashtags(self):\n",
    "        for team_it in range(len(self.list_of_teams)):\n",
    "            self.list_of_teams[team_it].hashtag=self.list_of_teams[team_it].hashtag.lower()"
   ]
  },
  {
   "cell_type": "markdown",
   "metadata": {},
   "source": [
    "The code below does the requisite. For referencing purposes, we'll refer to this code as detect_events."
   ]
  },
  {
   "cell_type": "code",
   "execution_count": 9,
   "metadata": {},
   "outputs": [
    {
     "name": "stdout",
     "output_type": "stream",
     "text": [
      "Highlight found between 17:33:50 - 17:34:20\n",
      "Highlight found between 17:33:51 - 17:34:21\n",
      "Highlight found between 17:33:52 - 17:34:22\n",
      "Highlight found between 17:33:53 - 17:34:23\n",
      "Highlight found between 17:33:55 - 17:34:25\n",
      "Highlight found between 17:33:56 - 17:34:26\n",
      "Highlight found between 17:33:57 - 17:34:27\n",
      "Highlight found between 17:56:01 - 17:56:31\n",
      "goal detected\n",
      "Highlight found between 17:56:02 - 17:56:32\n",
      "goal detected\n",
      "Highlight found between 17:56:03 - 17:56:33\n",
      "goal detected\n",
      "Highlight found between 17:56:04 - 17:56:34\n",
      "goal detected\n",
      "Highlight found between 17:56:05 - 17:56:35\n",
      "goal detected\n",
      "Highlight found between 17:56:06 - 17:56:36\n",
      "goal detected\n",
      "Highlight found between 17:56:07 - 17:56:37\n",
      "goal detected\n",
      "Highlight found between 17:56:08 - 17:56:38\n",
      "goal detected\n",
      "Highlight found between 17:56:09 - 17:56:39\n",
      "goal detected\n",
      "Highlight found between 17:56:10 - 17:56:40\n",
      "goal detected\n",
      "Highlight found between 17:56:11 - 17:56:41\n",
      "goal detected\n",
      "Highlight found between 17:56:12 - 17:56:42\n",
      "goal detected\n",
      "Highlight found between 17:56:13 - 17:56:43\n",
      "goal detected\n",
      "Highlight found between 17:56:14 - 17:56:44\n",
      "goal detected\n",
      "Highlight found between 17:56:15 - 17:56:45\n",
      "goal detected\n",
      "Highlight found between 17:56:16 - 17:56:46\n",
      "goal detected\n",
      "Highlight found between 17:56:17 - 17:56:47\n",
      "goal detected\n",
      "Highlight found between 17:56:18 - 17:56:48\n",
      "goal detected\n",
      "Highlight found between 17:56:19 - 17:56:49\n",
      "goal detected\n",
      "Highlight found between 18:20:14 - 18:20:44\n",
      "Highlight found between 18:20:15 - 18:20:45\n",
      "Highlight found between 18:20:16 - 18:20:46\n",
      "Highlight found between 18:20:18 - 18:20:48\n",
      "Highlight found between 18:20:22 - 18:20:52\n",
      "Highlight found between 18:20:23 - 18:20:53\n",
      "Highlight found between 18:20:24 - 18:20:54\n",
      "Highlight found between 18:20:25 - 18:20:55\n",
      "Highlight found between 18:28:07 - 18:28:37\n",
      "goal detected\n",
      "Highlight found between 18:28:08 - 18:28:38\n",
      "goal detected\n",
      "Highlight found between 18:28:09 - 18:28:39\n",
      "goal detected\n",
      "Highlight found between 18:28:10 - 18:28:40\n",
      "goal detected\n",
      "Highlight found between 18:28:11 - 18:28:41\n",
      "goal detected\n",
      "Highlight found between 18:28:12 - 18:28:42\n",
      "goal detected\n",
      "Highlight found between 18:28:13 - 18:28:43\n",
      "goal detected\n",
      "Highlight found between 18:28:14 - 18:28:44\n",
      "goal detected\n",
      "Highlight found between 18:28:15 - 18:28:45\n",
      "goal detected\n",
      "Highlight found between 18:28:16 - 18:28:46\n",
      "goal detected\n",
      "Highlight found between 18:28:17 - 18:28:47\n",
      "goal detected\n",
      "Highlight found between 18:28:18 - 18:28:48\n",
      "goal detected\n",
      "Highlight found between 18:28:19 - 18:28:49\n",
      "goal detected\n",
      "Highlight found between 18:28:20 - 18:28:50\n",
      "goal detected\n",
      "Highlight found between 18:28:21 - 18:28:51\n",
      "goal detected\n",
      "Highlight found between 18:28:22 - 18:28:52\n",
      "goal detected\n",
      "Highlight found between 18:28:23 - 18:28:53\n",
      "goal detected\n",
      "Highlight found between 18:28:24 - 18:28:54\n",
      "goal detected\n",
      "Highlight found between 18:36:37 - 18:37:07\n",
      "goal detected\n",
      "Highlight found between 18:36:38 - 18:37:08\n",
      "goal detected\n",
      "Highlight found between 18:36:39 - 18:37:09\n",
      "goal detected\n",
      "Highlight found between 18:36:40 - 18:37:10\n",
      "goal detected\n",
      "Highlight found between 18:36:41 - 18:37:11\n",
      "goal detected\n",
      "Highlight found between 18:36:42 - 18:37:12\n",
      "goal detected\n",
      "Highlight found between 18:36:43 - 18:37:13\n",
      "goal detected\n",
      "Highlight found between 18:36:44 - 18:37:14\n",
      "goal detected\n",
      "Highlight found between 18:36:45 - 18:37:15\n",
      "goal detected\n",
      "Highlight found between 18:36:46 - 18:37:16\n",
      "goal detected\n",
      "Highlight found between 18:36:47 - 18:37:17\n",
      "goal detected\n",
      "Highlight found between 18:36:48 - 18:37:18\n",
      "goal detected\n",
      "Highlight found between 18:36:49 - 18:37:19\n",
      "goal detected\n",
      "Highlight found between 18:36:50 - 18:37:20\n",
      "goal detected\n",
      "Highlight found between 18:36:51 - 18:37:21\n",
      "goal detected\n",
      "Highlight found between 18:36:52 - 18:37:22\n",
      "goal detected\n",
      "Highlight found between 18:36:53 - 18:37:23\n",
      "goal detected\n",
      "Highlight found between 18:36:54 - 18:37:24\n",
      "goal detected\n",
      "Highlight found between 18:55:38 - 18:56:08\n",
      "goal detected\n",
      "Highlight found between 18:55:39 - 18:56:09\n",
      "goal detected\n",
      "Highlight found between 19:01:34 - 19:02:04\n",
      "Highlight found between 19:01:39 - 19:02:09\n",
      "Highlight found between 19:01:40 - 19:02:10\n",
      "Highlight found between 19:01:41 - 19:02:11\n",
      "Highlight found between 19:01:42 - 19:02:12\n",
      "Highlight found between 19:01:43 - 19:02:13\n",
      "Highlight found between 19:01:44 - 19:02:14\n",
      "Highlight found between 19:01:45 - 19:02:15\n",
      "Highlight found between 19:01:46 - 19:02:16\n",
      "\n",
      "Summary:\n",
      "Goal detected around 17:56:16\n",
      "Goal detected around 18:28:22\n",
      "Goal detected around 18:36:52\n",
      "Goal detected around 18:55:53\n"
     ]
    }
   ],
   "source": [
    "# from __future__ import division\n",
    "from datetime import timedelta\n",
    "from sklearn.feature_extraction.text import CountVectorizer,TfidfTransformer\n",
    "from sklearn import preprocessing\n",
    "import pickle\n",
    "import numpy as np\n",
    "from scipy.sparse import csr_matrix,hstack\n",
    "from scipy import sparse\n",
    "\n",
    "\n",
    "##############\n",
    "# Parameters #\n",
    "##############\n",
    "# Use these parameters for controlling the algorithm. No other modifications are necessary for the lab.\n",
    "\n",
    "# Parameters exercise 2\n",
    "ex2_active = 1\n",
    "delta1_threshold = 2.5\n",
    "search_window = 30  # seconds\n",
    "\n",
    "# Parameters exercise 5\n",
    "ex5_active = 1\n",
    "pickle_model=\"goal_model.p\"\n",
    "pickle_count=\"vectorizerCount.p\"\n",
    "pickle_tfidf=\"vectorizerTFIDF.p\"\n",
    "pickle_scaler=\"scaler.p\"\n",
    "delta2_threshold=0.3\n",
    "\n",
    "\n",
    "####################\n",
    "# Helper functions #\n",
    "####################\n",
    "############################################\n",
    "# Make per second list of the tweet volume #\n",
    "############################################\n",
    "\n",
    "#initialize list of seconds\n",
    "N_points = (END_TIME - START_TIME).seconds \n",
    "points_of_graph=[0]*N_points\n",
    "\n",
    "#overview of tweets per second\n",
    "tweet_dictionary={}\n",
    "\n",
    "for tweet in tweetData:\n",
    "    if tweet.date < START_TIME or tweet.date >= END_TIME:\n",
    "        continue \n",
    "    # compute difference of dates, in seconds\n",
    "    time_delta = tweet.date - START_TIME\n",
    "    # calculate second sent during the game\n",
    "    second = time_delta.seconds \n",
    "    # store all tweets in per second dictionary\n",
    "    if not second in tweet_dictionary:\n",
    "        tweet_dictionary[second]=[]\n",
    "    tweet_dictionary[second].append(tweet)\n",
    "\n",
    "    # increase per minute count\n",
    "    points_of_graph[second]+=1\n",
    "\n",
    "    \n",
    "#################\n",
    "# Detect events #\n",
    "#################\n",
    "\n",
    "index = search_window\n",
    "\n",
    "if ex5_active:\n",
    "    model=pickle.load(open(pickle_model,\"rb\"))\n",
    "    vect=pickle.load(open(pickle_count,\"rb\"))\n",
    "    tf_transformer=pickle.load(open(pickle_tfidf,\"rb\"))\n",
    "    min_max_scaler = pickle.load(open(pickle_scaler,\"rb\"))\n",
    "    goal_seconds=[-100]\n",
    "    preprocessor=PreProcessor()\n",
    "\n",
    "while index < N_points - search_window:\n",
    "    window_first_half = sum_window(points_of_graph, index-search_window//2, index)\n",
    "    window_2nd_half = sum_window(points_of_graph, index, index+search_window//2)\n",
    "    delta_1 = window_2nd_half/(window_first_half if window_first_half!=0 else 1)\n",
    "\n",
    "    #######################################################\n",
    "    # Step 1                                              #\n",
    "    #######################################################\n",
    "    if delta_1 > delta1_threshold:\n",
    "        if ex2_active:\n",
    "            print(\"Highlight found between \" + (START_TIME + timedelta(seconds=(index-search_window//2))).strftime(\"%H:%M:%S\")+\" - \" + \n",
    "                  (START_TIME+timedelta(seconds=(index+search_window//2))).strftime(\"%H:%M:%S\"))\n",
    "\n",
    "        #######################################################\n",
    "        # Step 2                                              #\n",
    "        #######################################################\n",
    "        if ex5_active:\n",
    "            search_index=index\n",
    "            total_tweets=0\n",
    "            goal_tweets=0\n",
    "\n",
    "            while search_index < index+search_window//2:\n",
    "                if search_index in tweet_dictionary:\n",
    "                    for tweet in tweet_dictionary[search_index]:\n",
    "                        # Vectorize to word features\n",
    "                        tweet_list=[preprocessor.preProcess(tweet.tweet)]\n",
    "                        tweets_vector = vect.transform(tweet_list)\n",
    "                        tweets_vector_tf = tf_transformer.transform(tweets_vector)\n",
    "\n",
    "                        # Add custom features\n",
    "                        tweets_matrix=tweets_vector_tf\n",
    "                        # define new matrix with size (nr_of_tweets,nr_of_features)\n",
    "                        custom_features=np.zeros((1,3))\n",
    "                        cfe = CustomFeatureExtractor()\n",
    "                        custom_features[0,0]=cfe.countExclamationMarks((tweet.tweet))\n",
    "                        custom_features[0,1]=cfe.countWordsInCapitalLetters((tweet.tweet))\n",
    "                        custom_features[0,2]=cfe.Ex4CustomFeature((tweet.tweet))\n",
    "\n",
    "                        # merge word features and custom features\n",
    "                        tweets_matrix=hstack([tweets_vector_tf,custom_features])\n",
    "\n",
    "                        #scale\n",
    "                        tweets_matrix = min_max_scaler.transform(tweets_matrix.toarray())\n",
    "\n",
    "                        #predict\n",
    "                        prediction = model.predict(tweets_matrix)\n",
    "\n",
    "                        # check if goal tweet\n",
    "                        if prediction[0]==1:\n",
    "                            goal_tweets+=1\n",
    "                        total_tweets+=1\n",
    "\n",
    "                search_index+=1\n",
    "\n",
    "            if goal_tweets / total_tweets > delta2_threshold:\n",
    "                goal_seconds.append(index)\n",
    "                print(\"goal detected\")\n",
    "\n",
    "    index+=1\n",
    "\n",
    "#print summary\n",
    "if ex5_active:\n",
    "    print(\"\\nSummary:\")\n",
    "    for i in range(len(goal_seconds)-1):\n",
    "        # if difference between 2 different event moments is bigger than 30 seconds, assume new event\n",
    "        if goal_seconds[i+1]-goal_seconds[i]>30:\n",
    "            print(\"Goal detected around \"+(START_TIME+timedelta(seconds=(goal_seconds[i+1]))).strftime(\"%H:%M:%S\"))"
   ]
  },
  {
   "cell_type": "markdown",
   "metadata": {},
   "source": [
    "###### Write down which values were the most optimal. Were you able to detect soccer goals only or were other events detected too?"
   ]
  },
  {
   "cell_type": "markdown",
   "metadata": {},
   "source": [
    "(delta1_threshold = 1) and (search_window = 30) -> not effective\n",
    "\n",
    "(delta1_threshold = 2.5) and (search_window = 30) -> effective, but not optimized (found all 4, but a lot of noise included)\n",
    "\n",
    "(delta1_threshold = 5.4) and (search_window = 33) ->  rather effective, optimized (found 3, but not a lot of noise included)\n",
    "\n",
    "Other events (noise) are detected too, this is because goals are not the only thing that people tweet about."
   ]
  },
  {
   "cell_type": "markdown",
   "metadata": {},
   "source": [
    "# Exercise 3: Identifying soccer events using word features"
   ]
  },
  {
   "cell_type": "markdown",
   "metadata": {},
   "source": [
    "In the previous exercise, we designed and tweaked an algorithm for detecting events in Twitter data. This is different from identifying events. The only thing the algorithm can tell us, in a general case, is that an event has happened, not which event has happened."
   ]
  },
  {
   "cell_type": "markdown",
   "metadata": {},
   "source": [
    "To identify which event has happened, we will classify tweets in different classes. For the sake of simplicity, we limit ourselves in this exercise to two different classes: goals and other/no events. Because training and testing on one game will limit the generalizability of our classification model, an independent training set is given, consisting of 600 randomly selected tweets from five soccer games. The training set is equally separated in goal tweets (label=1) and no-goal tweets (label=0). \n",
    "\n",
    "The tweets were annotated following the following rule: a tweet will get label \"1\" when the content clearly indicates that a goal was just scored, taking into account the time the tweet was sent. Annotating these tweets is therefore a subjective task. Normally, multiple annotators should annotate the tweets with labels individually. The tweets can be found in twitter_annotated_trainingset_soccer.tsv."
   ]
  },
  {
   "cell_type": "markdown",
   "metadata": {},
   "source": [
    "For the classification we will make use of a Support Vector Machine with a RBF kernel and word [n-grams](https://en.wikipedia.org/wiki/N-gram). Support Vector Machines (SVMs) are state-of-the-art when it comes to text classification and yield outstanding results in most cases. We will make use again of Scikit-learn for Python. "
   ]
  },
  {
   "cell_type": "markdown",
   "metadata": {},
   "source": [
    "By default the implementation of the SVM makes use of a RBF kernel. Run the implementation provided below for training and evaluating a Support Vector Machine on the training set, making use of [5-fold cross validation](http://statweb.stanford.edu/~tibs/sta306bfiles/cvwrong.pdf). Next, switch the value of 'ex3_active_guassian' to one to train and evaluate a Naive Bayes classifier on the same set using 5-fold cross validation. "
   ]
  },
  {
   "cell_type": "code",
   "execution_count": 10,
   "metadata": {},
   "outputs": [
    {
     "name": "stderr",
     "output_type": "stream",
     "text": [
      "C:\\ProgramData\\Anaconda2\\lib\\site-packages\\sklearn\\cross_validation.py:41: DeprecationWarning: This module was deprecated in version 0.18 in favor of the model_selection module into which all the refactored classes and functions are moved. Also note that the interface of the new CV iterators are different from that of this module. This module will be removed in 0.20.\n",
      "  \"This module will be removed in 0.20.\", DeprecationWarning)\n"
     ]
    },
    {
     "name": "stdout",
     "output_type": "stream",
     "text": [
      "0.835\n"
     ]
    }
   ],
   "source": [
    "from sklearn.feature_extraction.text import CountVectorizer,TfidfTransformer\n",
    "from sklearn.naive_bayes import GaussianNB\n",
    "from sklearn import svm\n",
    "from sklearn import cross_validation\n",
    "from sklearn import preprocessing\n",
    "import numpy as np\n",
    "from scipy.sparse import coo_matrix,hstack\n",
    "import pickle\n",
    "\n",
    "##############\n",
    "# Parameters #\n",
    "##############\n",
    "\n",
    "# use Guassian Naive Bayes Classifier\n",
    "ex3_active_guassian=0\n",
    "# use custom features\n",
    "ex4_active=1\n",
    "\n",
    "##############\n",
    "##############\n",
    "\n",
    "\n",
    "annotated_tweets = AnnotationReader.readTsvFile(\"./twitter_annotated_trainingset_soccer.tsv\")\n",
    "\n",
    "corpus=[]\n",
    "labels=np.zeros(len(annotated_tweets))\n",
    "preprocessor=PreProcessor()\n",
    "\n",
    "\n",
    "#######################################################\n",
    "# Preprocess corpus                                   #\n",
    "#######################################################\n",
    "index=0\n",
    "for index in range(len(annotated_tweets)):\n",
    "    corpus.append(preprocessor.preProcess(annotated_tweets[index].tweet))\n",
    "    labels[index]=annotated_tweets[index].label\n",
    "    index+=1\n",
    "\n",
    "    \n",
    "#######################################################\n",
    "# Vectorize to word features                          #\n",
    "#######################################################\n",
    "vect = CountVectorizer(min_df=1)\n",
    "tweets_vector = vect.fit_transform(corpus)\n",
    "tf_transformer = TfidfTransformer(use_idf=False).fit(tweets_vector)\n",
    "tweets_vector_tf = tf_transformer.transform(tweets_vector)\n",
    "\n",
    "\n",
    "########################################################\n",
    "# Add custom features                                  #\n",
    "########################################################\n",
    "if ex4_active:\n",
    "    # define new matrix with size (nr_of_tweets,nr_of_features)\n",
    "    custom_features=np.zeros((tweets_vector_tf.shape[0],3))\n",
    "    cfe = CustomFeatureExtractor()\n",
    "    index=0\n",
    "    for index in range(len(annotated_tweets)):\n",
    "        custom_features[index,0]=cfe.countExclamationMarks((annotated_tweets[index].tweet))\n",
    "        custom_features[index,1]=cfe.countWordsInCapitalLetters((annotated_tweets[index].tweet))\n",
    "        custom_features[index,2]=cfe.Ex4CustomFeature((annotated_tweets[index].tweet))\n",
    "        index+=1\n",
    "\n",
    "    # merge word features and custom features\n",
    "    tweets_matrix=hstack([tweets_vector_tf,custom_features])\n",
    "else:\n",
    "    tweets_matrix=tweets_vector_tf\n",
    "\n",
    "\n",
    "###############################################################\n",
    "## train a model on the corpus using 5-fold cross validation ##\n",
    "###############################################################\n",
    "#######################################################\n",
    "# Change kernel and kernel parameters of the SVM here #\n",
    "#######################################################\n",
    "min_max_scaler = preprocessing.MinMaxScaler()\n",
    "tweets_matrix = min_max_scaler.fit_transform(tweets_matrix.toarray())\n",
    "#clf = svm.SVC()\n",
    "clf = svm.SVC(C = 30, gamma = 0.1)\n",
    "clf.fit(tweets_matrix,labels)\n",
    "\n",
    "#######################################################\n",
    "# Uncomment this to use a Gaussian Kernel             #\n",
    "#######################################################\n",
    "if ex3_active_guassian:\n",
    "    clf = GaussianNB()\n",
    "    tweets_matrix=tweets_vector_tf.toarray()\n",
    "#######################################################\n",
    "\n",
    "# actually, here we refit the model but we want to evaluate the best parameters using cross validation\n",
    "scores = cross_validation.cross_val_score(clf, tweets_matrix,labels, cv=5)\n",
    "\n",
    "# print average accuray of 5 folds\n",
    "print(np.mean(scores))\n",
    "pickle.dump(clf,open(\"goal_model.p\",\"wb\"))\n",
    "pickle.dump(tf_transformer,open(\"vectorizerTFIDF.p\",\"wb\"))\n",
    "pickle.dump(vect,open(\"vectorizerCount.p\",\"wb\"))\n",
    "pickle.dump(min_max_scaler,open(\"scaler.p\",\"wb\"))\n",
    "#print(vect.get_feature_names())"
   ]
  },
  {
   "cell_type": "markdown",
   "metadata": {},
   "source": [
    "###### Write down the results of both evaluations. What do you conclude?"
   ]
  },
  {
   "cell_type": "markdown",
   "metadata": {},
   "source": [
    "default = 0.7016666666666667\n",
    "\n",
    "ex3_active_guassian=1 = 0.6849999999999999\n",
    "\n",
    "Guassian Naive Bayes Classifier is not the best classifier out there."
   ]
  },
  {
   "cell_type": "markdown",
   "metadata": {},
   "source": [
    "As seen during the theory, a limited number of parameters can be tweaked to get a higher accuracy. By default, the parameters of the SVM with a RBF kernel are:\n",
    "\n",
    "* $C = 1$ (Cost)\n",
    "* $ \\gamma = \\frac{1}{\\text{number of features}}$\n",
    "\n",
    "Add those parameters to the constructor of svm.SVC and retrain the model. You may refer to the documentation of scikit-learn for more information on `svm.SVC()` function."
   ]
  },
  {
   "cell_type": "markdown",
   "metadata": {},
   "source": [
    "###### Write down the maximum accuracy you obtained while tweaking the values of $C$ and $\\gamma$. What is the meaning of those two parameters? Is it advantageous to have high values for $C$ and $\\gamma$ ?"
   ]
  },
  {
   "cell_type": "markdown",
   "metadata": {},
   "source": [
    "ex3_active_guassian=0:\n",
    "\n",
    "    clf = svm.SVC(C = 1, gamma = \"auto\") -> 0.7016666666666667\n",
    "\n",
    "    clf = svm.SVC(C = 5800, gamma = 0.1) -> 0.7849999999999999\n",
    "    \n",
    "    clf = svm.SVC(C = 5500, gamma = 0.001) -> 0.76\n",
    "    \n",
    "    clf = svm.SVC(C = 30, gamma = 0.001) -> 0.7216666666666667\n",
    "    \n",
    "    clf = svm.SVC(C = 30, gamma = 0.1) -> 0.7849999999999999 -> best\n",
    "    \n",
    "C is how much we penalize the SVM for data points within the margin (where \"within\" can also mean on the wrong side of the dividing hyperplane). Large C means penalize a lot. If your C is large, the SVM will try to find a hyperplane and margin so that there are few very points within the margin, which could mean an overly complex model with a small margin if the points aren't easily separable. A lower C gives higher error on the training set, but finds a larger margin that might be more robust.\n",
    "\n",
    "Gamma defines how far the influence of single training example reaches. In the RBF kernel, it adjusts how similar two points must be to be considered \"similar\". \n",
    "\n",
    "If the value of Gamma is high, then our decision boundary will depend on points close to the decision boundary and nearer points carry more weights than far away points due to which our decision boundary becomes more wiggly.\n",
    "\n",
    "If the value of Gamma is low, then far away points carry more weights than nearer points and thus our decision boundary becomes more like a straight line.\n",
    "\n",
    "The value of gamma and C should not be very high because it leads to the overfitting or it shouldn’t be very small (underfitting). Thus we need to choose the optimal value of C and Gamma in order to get a good fit.\n",
    "\n",
    "(Source: https://www.quora.com/What-is-the-intuition-behind-the-Cost-and-Gamma-parameters-in-SVM)"
   ]
  },
  {
   "cell_type": "markdown",
   "metadata": {},
   "source": [
    "Vectorizing documents without pre-processing them often yields to sparse, unwanted and not generalizable results. You can print the vocabulary of the Vectorizer making use of the function get_feature_names(). If you move towards words starting with the character 'g', a lot variants on the word 'goal' are included. Using those variants yields suboptimal results because the chance of finding the same word again in another tweet is small. One can imagine that the word 'goaaaaaaaaaaaaaaaaaaaaaal' with 22 occurrences of 'a' is rare. \n",
    "\n",
    "One solution would be to reduce all those variants to one root, namely 'goal', i.e. the so called stemming. To apply this type of stemming, activate the `removeRepetition` function in the `preProcess` function of `PreProcessor` class. Run the algorithm again for training with the most optimal values for $C$ and $\\gamma$ you found earlier. "
   ]
  },
  {
   "cell_type": "markdown",
   "metadata": {},
   "source": [
    "###### What is the accuracy you obtained?"
   ]
  },
  {
   "cell_type": "markdown",
   "metadata": {},
   "source": [
    "Uncommented: text = self.removeRepetition(text)\n",
    "\n",
    "Params: \n",
    "\n",
    "    ex3_active_guassian=0\n",
    "    \n",
    "    clf = svm.SVC(C = 30, gamma = 0.1)\n",
    "\n",
    "Result: 0.8066666666666666"
   ]
  },
  {
   "cell_type": "markdown",
   "metadata": {},
   "source": [
    "Similarly, a lot of tweets contain player mentions and hashtags. Because the model of the SVM is trained on a selection of games and teams, it will not generalize well to other games with teams that were not represented in the training set. Therefore, we will replace player names with a general token based on a list of players of the English Premier League, extracted from Soccerway (http://soccerway.com). The list is provided as players.tsv. The columns represent respectively the first name(s) of the player, the last name(s) of the player, the team number of the player and his position on the field. We will replace the first names with the token `'_F_PLAYERNAME_'` and the last names with the token `'_L_PLAYERNAME_'`. To apply this preprocessing step, activate the function `replacePlayers` in the `preProcess` function of the `PreProcess` class. \n",
    "\n",
    "Run the training algorithm again. "
   ]
  },
  {
   "cell_type": "markdown",
   "metadata": {},
   "source": [
    "###### Which accuracy did you obtain? Did the accuracy improve? Explain why?"
   ]
  },
  {
   "cell_type": "markdown",
   "metadata": {},
   "source": [
    "Uncommented: \n",
    "\n",
    "    text = self.removeRepetition(text)\n",
    "    \n",
    "    text = self.replacePlayers(text)\n",
    "    \n",
    "Params: \n",
    "\n",
    "    ex3_active_guassian=0\n",
    "    \n",
    "    clf = svm.SVC(C = 30, gamma = 0.1)\n",
    "\n",
    "Result: 0.8033333333333333\n",
    "\n",
    "It got worse, probably people not using the correct names or adding [´ ` . , etc] to the name, those are not filtered out. This filter is thus not the most effective."
   ]
  },
  {
   "cell_type": "markdown",
   "metadata": {},
   "source": [
    "###### Can you further improve this accuracy by tweaking the values of $C$ and $\\gamma$?"
   ]
  },
  {
   "cell_type": "markdown",
   "metadata": {},
   "source": [
    "clf = svm.SVC(C = 5500, gamma = 0.1) -> 0.7916666666666666\n",
    "\n",
    "clf = svm.SVC(C = 5500, gamma = 0.001) -> 0.76\n",
    "\n",
    "clf = svm.SVC(C = 10, gamma = 0.001) -> 0.7233333333333334\n",
    "\n",
    "clf = svm.SVC(C = 10, gamma = 0.1) -> 0.7916666666666666\n",
    "\n",
    "-> not improving"
   ]
  },
  {
   "cell_type": "markdown",
   "metadata": {},
   "source": [
    "We can do the same for the hashtags used. Activate the function `replaceHashtags` in the `preProcess` function in the `PreProcess` class to replace the team hashtags with the token `'_TEAM_HASHTAG_'`."
   ]
  },
  {
   "cell_type": "markdown",
   "metadata": {},
   "source": [
    "###### Did the accuracy improve? Explain why?"
   ]
  },
  {
   "cell_type": "markdown",
   "metadata": {},
   "source": [
    "Uncommented: \n",
    "\n",
    "    text = self.removeRepetition(text)\n",
    "    \n",
    "    text = self.replacePlayers(text)\n",
    "    \n",
    "    text = self.replaceHashtags(text)\n",
    "    \n",
    "Params: \n",
    "\n",
    "    ex3_active_guassian=0\n",
    "    \n",
    "    clf = svm.SVC(C = 30, gamma = 0.1)\n",
    "\n",
    "Result: 0.7833333333333333 -> it got worse\n",
    "\n",
    "Reason: football consists of 2 teams, this means theres not a lot of words to reduce."
   ]
  },
  {
   "cell_type": "markdown",
   "metadata": {},
   "source": [
    "# Exercise 4: Identifying soccer events using custom features"
   ]
  },
  {
   "cell_type": "markdown",
   "metadata": {},
   "source": [
    "A consequence of reducing all words to a common root, is that discriminative information is removed too. Repetition and capitalization of characters are mark-up tools used by users to express joy or anger. Those feelings are often related to events we want to detect. By removing them, we remove a part of the important information too. Note that when you apply the TF-IDF transformer of `scikit-learn`, capitalization is automatically removed. Therefore, it can be useful to define some custom features to capture these characteristics instead of using standard word features. This is called feature engineering, namely, selecting features that will improve the classification result, based on the context at hand."
   ]
  },
  {
   "cell_type": "markdown",
   "metadata": {},
   "source": [
    "###### Change the value of ex4_active to one in the code block for exercise 3 to use some custom features."
   ]
  },
  {
   "cell_type": "markdown",
   "metadata": {},
   "source": [
    "done: ex4_active=1"
   ]
  },
  {
   "cell_type": "markdown",
   "metadata": {},
   "source": [
    "###### Two features are already implemented. Run the algorithm and write down the best accuracy that you obtained while tweaking $C$ and $\\gamma$."
   ]
  },
  {
   "cell_type": "markdown",
   "metadata": {},
   "source": [
    "Preprocessor: all 3 filters on\n",
    "\n",
    "    clf = svm.SVC(C = 30, gamma = 0.1) -> 0.7866666666666666\n",
    "\n",
    "    clf = svm.SVC(C = 30, gamma = 0.001) -> 0.7633333333333333\n",
    "\n",
    "    clf = svm.SVC(C = 5500, gamma = 0.001) -> 0.7683333333333333\n",
    "\n",
    "    clf = svm.SVC(C = 5500, gamma = 0.1) -> 0.7633333333333334\n",
    "\n",
    "    clf = svm.SVC(C = 5, gamma = 0.15) -> 0.8033333333333333\n",
    "\n",
    "Preprocessor: only removerepitition on\n",
    "\n",
    "    clf = svm.SVC(C = 30, gamma = 0.1) -> 0.8066666666666666 -> best\n",
    "    \n",
    "    clf = svm.SVC(C = 5, gamma = 0.15) -> 0.8033333333333333\n"
   ]
  },
  {
   "cell_type": "markdown",
   "metadata": {},
   "source": [
    "Some other custom features can be defined. Try to invent one yourself that improves the accuracy on the training set. This can be a combination of multiple features. You can make use of all other given functions and files. "
   ]
  },
  {
   "cell_type": "markdown",
   "metadata": {},
   "source": [
    "###### Add it to the CustomFeatureExtractor class and call it Ex4CustomFeature. Do not forget to adapt the file the code block in Exercise 3 too. Write down the accuracy you obtained, which features you used and which parameters ($C$ and $\\gamma$) that were used for evaluation."
   ]
  },
  {
   "cell_type": "markdown",
   "metadata": {},
   "source": [
    "Preprocessor all 3 filters on + all features on:\n",
    "\n",
    "    clf = svm.SVC(C = 30, gamma = 0.1) -> 0.8183333333333334\n",
    "\n",
    "Preprocessor only removerepitition on + all features on:\n",
    "\n",
    "    clf = svm.SVC(C = 5, gamma = 0.15) -> 0.8216666666666667\n",
    "    \n",
    "    clf = svm.SVC(C = 30, gamma = 0.1) -> 0.8399999999999999 -> best"
   ]
  },
  {
   "cell_type": "markdown",
   "metadata": {},
   "source": [
    "# Exercise 5: Testing the algorithm"
   ]
  },
  {
   "cell_type": "markdown",
   "metadata": {},
   "source": [
    "The final algorithm for testing events is a 2-step algorithm. Because we know that events give rise to high peaks in the Twitter volume, we will first apply the peak detection algorithm of Exercise 2. When a peak is detected, we move on to step 2 where we classify all tweets within the search window in 2 classes, goal tweets and no-goal tweets. When the number of goal tweets exceeds a threshold $\\gamma_2$, a goal event is detected:\n",
    "\n",
    "$$\\frac{\\text{number of goal tweets}}{\\text{total number of tweets}} > \\delta_2$$\n",
    "\n",
    "Activate the second step in detect_events by changing the value of `ex5_active` to one. Modify the value of $\\delta_2$ until you get a good result. Note that you can estimate a good threshold value by printing out all thresholds that were calculated. Try to detect as much goals as possible while suppressing events that gave a peak in step one but are not goal events. "
   ]
  },
  {
   "cell_type": "markdown",
   "metadata": {},
   "source": [
    "###### Did you succeed? Write down the summary you got and explain the result."
   ]
  },
  {
   "cell_type": "markdown",
   "metadata": {},
   "source": [
    "Uncommented:\n",
    "    \n",
    "    text = self.removeRepetition(text)\n",
    "    \n",
    "    text = self.replacePlayers(text)\n",
    "    \n",
    "    text = self.replaceHashtags(text)\n",
    "\n",
    "Params:\n",
    "\n",
    "    delta1_threshold = 5.4 and search_window = 33:\n",
    "    \n",
    "        delta2_threshold=1 -> No goals detected\n",
    "    \n",
    "        delta2_threshold=0.3 -> Goal detected around 17:56:22, 18:28:29, 18:36:58\n",
    "        \n",
    "    delta1_threshold = 2.5 and search_window = 30:\n",
    "    \n",
    "        delta2_threshold=0.3 -> Goal detected around 17:56:16, 18:28:22, 18:36:52, 18:55:53\n",
    "        \n",
    "All goals have been found!"
   ]
  },
  {
   "cell_type": "markdown",
   "metadata": {},
   "source": [
    "To prove that replacing player names and hashtags really yields a generalizable goal event detection system, retrain the SVM model without the preprocessing steps `replacePlayers` and `replaceRepetition`. Run the detect_events algorithm again. "
   ]
  },
  {
   "cell_type": "markdown",
   "metadata": {},
   "source": [
    "###### Which goals can be detected? Why? "
   ]
  },
  {
   "cell_type": "markdown",
   "metadata": {},
   "source": [
    "Uncommented:\n",
    "    \n",
    "    text = self.replaceHashtags(text)\n",
    "\n",
    "Params:\n",
    "        \n",
    "    delta1_threshold = 2.5 and search_window = 30:\n",
    "    \n",
    "        delta2_threshold=0.3 -> Goal detected around 17:56:16, 18:28:22, 18:36:52, 18:55:53\n",
    " \n",
    "All goals have been found, just as before."
   ]
  },
  {
   "cell_type": "markdown",
   "metadata": {},
   "source": [
    "It can be useful to print the values of $\\frac{\\text{number of goal tweets}}{\\text{total number of tweets}}$. You will probably need to change the value of $\\delta_2$ too to detect some soccer goals."
   ]
  },
  {
   "cell_type": "markdown",
   "metadata": {},
   "source": [
    "# Exercise 6: Event detection and identification in cycling races"
   ]
  },
  {
   "cell_type": "markdown",
   "metadata": {},
   "source": [
    "In this exercise, we will try to modify the algorithm we have developed in the previous lab session to detect events during cycling races. Six different races are given: Milaan-San Remo (#msr), Gent-Wevelgem (#gw), Ronde van Vlaanderen (#rvv), Parijs-Roubaix (#roubaix), Amstel Gold Race (#agr) en Luik-Bastenaken-Luik (#lbl). The goal is to identify a cycling race event. Which one is up to you. Analyze the given races carefully to select an interesting event.\n",
    "\n",
    "You can use and modify the code of the previous lab as much as you want. You can use external sources of code or information too. \n",
    "\n",
    "As a help, you can take the following path:\n",
    "\n",
    "* Divide the given cycling races in a test and training set\n",
    "\n",
    "* Analyze the training set and try to identify interesting event types\n",
    "\n",
    "* Select an event type, select some representative tweets for that event type and label them (select for both classes the same amount of tweets)\n",
    "\n",
    "* For that event type, identify the most promising features to identify such an event (n-grams, selection of keywords, custom features)\n",
    "\n",
    "* Adapt the given code to use those features and train the algorithm to identify that type of event on the training set\n",
    "\n",
    "* Evaluate your algorithm on the test set\n"
   ]
  },
  {
   "cell_type": "markdown",
   "metadata": {},
   "source": [
    "New files:\n",
    "\n",
    "    players_cyclers.tsv: similar to players.tsv\n",
    "\n",
    "    teams_cycling.tsv: similar to teams.tsv\n",
    "    \n",
    "    cycling_annotated.tsv: similar to twitter_annotated_trainingset_soccer.tsv"
   ]
  },
  {
   "cell_type": "code",
   "execution_count": 7,
   "metadata": {},
   "outputs": [
    {
     "name": "stderr",
     "output_type": "stream",
     "text": [
      "C:\\ProgramData\\Anaconda2\\lib\\site-packages\\sklearn\\cross_validation.py:41: DeprecationWarning: This module was deprecated in version 0.18 in favor of the model_selection module into which all the refactored classes and functions are moved. Also note that the interface of the new CV iterators are different from that of this module. This module will be removed in 0.20.\n",
      "  \"This module will be removed in 0.20.\", DeprecationWarning)\n"
     ]
    }
   ],
   "source": [
    "from sklearn.feature_extraction.text import CountVectorizer,TfidfTransformer\n",
    "from sklearn.naive_bayes import GaussianNB\n",
    "from sklearn import svm\n",
    "from sklearn import cross_validation\n",
    "from sklearn import preprocessing\n",
    "import numpy as np\n",
    "from scipy import sparse\n",
    "from scipy.sparse import coo_matrix,hstack,csr_matrix\n",
    "import pickle\n",
    "from datetime import timedelta,datetime\n",
    "import matplotlib.pyplot as plt\n",
    "from __future__ import division\n",
    "import re"
   ]
  },
  {
   "cell_type": "code",
   "execution_count": 38,
   "metadata": {},
   "outputs": [],
   "source": [
    "class GameReader:\n",
    "    # read TSV file quick and dirty\n",
    "    @staticmethod\n",
    "    def readTsvFile(name):\n",
    "        file_to_read=open(name,'r')\n",
    "        list_of_tweets=[]\n",
    "        for line in file_to_read:\n",
    "            split_tabs=line.split('\\t')\n",
    "            if len(split_tabs)>=3:\n",
    "                list_of_tweets.append(Tweet(split_tabs[2],_date=split_tabs[0],_user=split_tabs[1]))\n",
    "        return list_of_tweets\n",
    "\n",
    "class AnnotationReader:\n",
    "    # read TSV file quick and dirty\n",
    "    @staticmethod\n",
    "    def readTsvFile(name):\n",
    "        file_to_read=open(name,'r')\n",
    "        list_of_tweets=[]\n",
    "        for line in file_to_read:\n",
    "            split_tabs=line.split('\\t')\n",
    "            if len(split_tabs)>=2:\n",
    "                list_of_tweets.append(Tweet(split_tabs[1],_label=split_tabs[0]))\n",
    "        return list_of_tweets\n",
    "\n",
    "class PlayerReader:\n",
    "    # read TSV file quick and dirty\n",
    "    @staticmethod\n",
    "    def readTsvFile(name):\n",
    "        file_to_read=open(name,'r')\n",
    "        list_of_players=[]\n",
    "        for line in file_to_read:\n",
    "            split_tabs=line.split('\\t')\n",
    "            if len(split_tabs)>=4:\n",
    "                firstnames=split_tabs[0].split(' ')\n",
    "                for i in range(len(firstnames)):\n",
    "                    firstnames[i]=firstnames[i].replace('#',' ').lower() \n",
    "                lastnames=split_tabs[1].split(' ')\n",
    "                for i in range(len(lastnames)):\n",
    "                    lastnames[i]=lastnames[i].replace('#',' ').lower() \n",
    "                list_of_players.append(Player(firstnames,lastnames,int(split_tabs[2]),split_tabs[3][:-1]))\n",
    "        return list_of_players\n",
    "\n",
    "class TeamReader:\n",
    "    # read TSV file quick and dirty\n",
    "    @staticmethod\n",
    "    def readTsvFile(name):\n",
    "        file_to_read=open(name,'r')\n",
    "        list_of_teams=[]\n",
    "        for line in file_to_read:\n",
    "            split_tabs=line.split('\\t')\n",
    "            if len(split_tabs)>=3:\n",
    "                list_of_teams.append(Team(int(split_tabs[0]),split_tabs[1],split_tabs[2][:-1]))\n",
    "        return list_of_teams\n",
    "\n",
    "class Tweet:\n",
    "    def __init__(self, _tweet,_date=\"1900-01-01 00:00:00\", _user=\"\",_label=0):\n",
    "        self.date=datetime.strptime(_date,\"%Y-%m-%d %H:%M:%S\")\n",
    "        self.user=_user\n",
    "        self.tweet=_tweet.rstrip('\\n')\n",
    "        self.label=int(_label)\n",
    "\n",
    "class Player:\n",
    "    def __init__(self,_firstnames,_lastnames,_team_nr,_position):\n",
    "        self.firstnames=_firstnames #list\n",
    "        self.lastnames=_lastnames #list\n",
    "        self.team_nr=_team_nr\n",
    "        self.position=_position\n",
    "\n",
    "class Team:\n",
    "    def __init__(self,_team_nr,_team_name,_hashtag):\n",
    "        self.team_nr=_team_nr\n",
    "        self.team_name=_team_name\n",
    "        self.hashtag=_hashtag\n",
    "\n",
    "class CustomFeatureExtractor:\n",
    "    def countExclamationMarks(self,text):\n",
    "        return text.count('!')\n",
    "\n",
    "    def countWordsInCapitalLetters(self,text):\n",
    "        words=text.split(\" \")\n",
    "        number=0\n",
    "        for word in words:\n",
    "            if word.upper()==word:\n",
    "                number+=1\n",
    "        return number\n",
    "    \n",
    "def sum_window(array, begin_index, end_index):\n",
    "    sum=0\n",
    "    for i in range(begin_index,end_index):\n",
    "        sum+=array[i]\n",
    "    return sum\n",
    "\n",
    "class PreProcessor:\n",
    "    def __init__(self):\n",
    "        self.list_of_players=PlayerReader.readTsvFile(\"./players_cyclers.tsv\")\n",
    "        self.preProcessPlayers()\n",
    "        self.list_of_teams=TeamReader.readTsvFile(\"./teams_cycling.tsv\")\n",
    "        self.preProcessHashtags()\n",
    "\n",
    "    def preProcess(self,text):\n",
    "        text = self.removeRepetition(text)\n",
    "        text = self.replacePlayers(text)\n",
    "        text = self.replaceHashtags(text)\n",
    "        return text\n",
    "\n",
    "    def removeRepetition(self,text):\n",
    "        return re.sub(r'([a-zA-Z])\\1+', r'\\1', text)\n",
    "    \n",
    "    def replacePlayers(self,text):\n",
    "        words=text.split(' ')\n",
    "        return_text=\"\"\n",
    "        for word in words:\n",
    "            if self.isFirstName(word):\n",
    "                return_text+=\"_F_PLAYERNAME_\"+\" \"\n",
    "            elif self.isLastName(word):\n",
    "                return_text+=\"_L_PLAYERNAME_\"+\" \"\n",
    "            else:\n",
    "                return_text+=word+\" \"\n",
    "        return return_text\n",
    "\n",
    "    def replaceHashtags(self,text):\n",
    "        words=text.split(' ')\n",
    "        return_text=\"\"\n",
    "        for word in words:\n",
    "            if self.isHashtag(word):\n",
    "                return_text+=\"_TEAM_HASHTAG_\"+\" \"\n",
    "            else:\n",
    "                return_text+=word+\" \"\n",
    "        return return_text\n",
    "\n",
    "    def isFirstName(self,word):\n",
    "        for player in self.list_of_players:\n",
    "            if word.lower() in player.firstnames:\n",
    "                return 1\n",
    "        return 0\n",
    "\n",
    "    def isLastName(self,word):\n",
    "        for player in self.list_of_players:\n",
    "            if word.lower() in player.lastnames:\n",
    "                return 1\n",
    "        return 0\n",
    "\n",
    "    def isHashtag(self,word):\n",
    "        for team in self.list_of_teams:\n",
    "            if word.lower() in team.hashtag:\n",
    "                return 1\n",
    "        return 0\n",
    "\n",
    "    def preProcessPlayers(self):\n",
    "        for player_it in range(len(self.list_of_players)):\n",
    "            for i in range(len(self.list_of_players[player_it].firstnames)):\n",
    "                self.list_of_players[player_it].firstnames[i]=self.removeRepetition(self.list_of_players[player_it].firstnames[i]).lower()\n",
    "            for i in range(len(self.list_of_players[player_it].lastnames)):\n",
    "                self.list_of_players[player_it].lastnames[i]=self.removeRepetition(self.list_of_players[player_it].lastnames[i]).lower()\n",
    "\n",
    "    def preProcessHashtags(self):\n",
    "        for team_it in range(len(self.list_of_teams)):\n",
    "            self.list_of_teams[team_it].hashtag=self.list_of_teams[team_it].hashtag.lower()"
   ]
  },
  {
   "cell_type": "code",
   "execution_count": 39,
   "metadata": {},
   "outputs": [],
   "source": [
    "tweetData = GameReader.readTsvFile('./gw.tsv')\n",
    "#tweetData = GameReader.readTsvFile('./roubaix.tsv')\n",
    "#tweetData = GameReader.readTsvFile('./msr.tsv') # not working\n",
    "# tweetData = GameReader.readTsvFile('./lbl.tsv')"
   ]
  },
  {
   "cell_type": "markdown",
   "metadata": {},
   "source": [
    "Analyze the set and try to identify events:"
   ]
  },
  {
   "cell_type": "code",
   "execution_count": 40,
   "metadata": {},
   "outputs": [
    {
     "data": {
      "image/png": "[encoded data removed]",
      "text/plain": [
       "<Figure size 432x288 with 1 Axes>"
      ]
     },
     "metadata": {},
     "output_type": "display_data"
    }
   ],
   "source": [
    "# GW:\n",
    "START_TIME = datetime.strptime(\"2013-03-24 00:20:42\",\"%Y-%m-%d %H:%M:%S\")\n",
    "END_TIME = datetime.strptime(\"2013-03-24 23:04:36\",\"%Y-%m-%d %H:%M:%S\")\n",
    "# # roubaix\n",
    "# START_TIME = datetime.strptime(\"2013-04-07 00:06:36\",\"%Y-%m-%d %H:%M:%S\")\n",
    "# END_TIME = datetime.strptime(\"2013-04-07 22:01:27\",\"%Y-%m-%d %H:%M:%S\")\n",
    "# # MSR:\n",
    "# START_TIME = datetime.strptime(\"2013-03-17 00:05:23\",\"%Y-%m-%d %H:%M:%S\")\n",
    "# END_TIME = datetime.strptime(\"2013-03-17 23:11:13\",\"%Y-%m-%d %H:%M:%S\")\n",
    "# # LBL:\n",
    "# START_TIME = datetime.strptime(\"2013-04-21 00:11:46\",\"%Y-%m-%d %H:%M:%S\")\n",
    "# END_TIME = datetime.strptime(\"2013-04-21 22:00:50\",\"%Y-%m-%d %H:%M:%S\")\n",
    "#initialize list of minutes\n",
    "N_points_min = (END_TIME - START_TIME).seconds / 60\n",
    "points_of_graph_min = [0]*int(N_points_min)\n",
    "for tweet in tweetData:\n",
    "    if tweet.date < START_TIME or tweet.date >= END_TIME:\n",
    "        continue \n",
    "    # compute difference of dates, in seconds\n",
    "    time_delta = tweet.date - START_TIME\n",
    "    # calculate minute sent during the game\n",
    "    minute = time_delta.seconds / 60\n",
    "    # increase per minute count\n",
    "    points_of_graph_min[int(minute)] += 1\n",
    "\n",
    "plt.plot(range(int(N_points_min)), points_of_graph_min) \n",
    "plt.ylabel('Tweet volume')\n",
    "plt.xlabel('Minute')\n",
    "plt.show()"
   ]
  },
  {
   "cell_type": "code",
   "execution_count": 41,
   "metadata": {},
   "outputs": [
    {
     "data": {
      "image/png": "[encoded data removed]",
      "text/plain": [
       "<Figure size 432x288 with 1 Axes>"
      ]
     },
     "metadata": {},
     "output_type": "display_data"
    }
   ],
   "source": [
    "# Make per second list of the tweet volume #\n",
    "#initialize list of seconds\n",
    "N_points = (END_TIME - START_TIME).seconds \n",
    "points_of_graph=[0]*N_points\n",
    "#overview of tweets per second\n",
    "tweet_dictionary={}\n",
    "for tweet in tweetData:\n",
    "    if tweet.date < START_TIME or tweet.date >= END_TIME:\n",
    "        continue \n",
    "    # compute difference of dates, in seconds\n",
    "    time_delta = tweet.date - START_TIME\n",
    "    # calculate second sent during the game\n",
    "    second = time_delta.seconds \n",
    "    # store all tweets in per second dictionary\n",
    "    if not second in tweet_dictionary:\n",
    "        tweet_dictionary[second]=[]\n",
    "    tweet_dictionary[second].append(tweet)\n",
    "    points_of_graph[second]+=1\n",
    "    \n",
    "plt.plot(range(int(N_points)), points_of_graph) \n",
    "plt.show()"
   ]
  },
  {
   "cell_type": "code",
   "execution_count": 42,
   "metadata": {},
   "outputs": [
    {
     "name": "stdout",
     "output_type": "stream",
     "text": [
      "Highlight found between 11:58:40 - 11:59:30\n",
      "Highlight found between 11:58:41 - 11:59:31\n",
      "Highlight found between 11:58:42 - 11:59:32\n",
      "Highlight found between 11:58:43 - 11:59:33\n",
      "Highlight found between 11:58:44 - 11:59:34\n",
      "Highlight found between 13:53:00 - 13:53:50\n",
      "Highlight found between 14:41:55 - 14:42:45\n",
      "Highlight found between 14:46:09 - 14:46:59\n",
      "Highlight found between 14:46:10 - 14:47:00\n",
      "Highlight found between 14:46:11 - 14:47:01\n",
      "Highlight found between 14:46:12 - 14:47:02\n",
      "Highlight found between 14:46:13 - 14:47:03\n",
      "Highlight found between 14:46:14 - 14:47:04\n",
      "Highlight found between 14:46:15 - 14:47:05\n",
      "event detected\n",
      "Highlight found between 14:58:47 - 14:59:37\n",
      "Highlight found between 14:58:48 - 14:59:38\n",
      "Highlight found between 14:58:49 - 14:59:39\n",
      "Highlight found between 14:58:50 - 14:59:40\n",
      "Highlight found between 14:58:51 - 14:59:41\n",
      "Highlight found between 14:58:52 - 14:59:42\n",
      "Highlight found between 14:58:53 - 14:59:43\n",
      "Highlight found between 14:58:54 - 14:59:44\n",
      "Highlight found between 14:58:55 - 14:59:45\n",
      "Highlight found between 15:04:38 - 15:05:28\n",
      "Highlight found between 15:04:39 - 15:05:29\n",
      "Highlight found between 15:10:40 - 15:11:30\n",
      "Highlight found between 15:13:00 - 15:13:50\n",
      "Highlight found between 15:13:01 - 15:13:51\n",
      "Highlight found between 15:14:08 - 15:14:58\n",
      "Highlight found between 15:14:09 - 15:14:59\n",
      "Highlight found between 15:14:10 - 15:15:00\n",
      "Highlight found between 15:14:11 - 15:15:01\n",
      "Highlight found between 15:19:52 - 15:20:42\n",
      "Highlight found between 15:38:50 - 15:39:40\n",
      "Highlight found between 15:38:51 - 15:39:41\n",
      "Highlight found between 15:39:38 - 15:40:28\n",
      "Highlight found between 15:39:39 - 15:40:29\n",
      "Highlight found between 15:39:40 - 15:40:30\n",
      "Highlight found between 15:39:41 - 15:40:31\n",
      "Highlight found between 15:39:42 - 15:40:32\n",
      "Highlight found between 15:49:11 - 15:50:01\n",
      "event detected\n",
      "Highlight found between 15:49:12 - 15:50:02\n",
      "event detected\n",
      "Highlight found between 16:21:34 - 16:22:24\n",
      "Highlight found between 16:21:35 - 16:22:25\n",
      "event detected\n",
      "\n",
      "Summary:\n",
      "Fall detected around 14:46:40\n",
      "Fall detected around 15:49:36\n",
      "Fall detected around 16:22:00\n"
     ]
    }
   ],
   "source": [
    "delta1_threshold = 7.5\n",
    "search_window = 50\n",
    "\n",
    "# #GW\n",
    "# delta1_threshold = 7.5\n",
    "# search_window = 50\n",
    "\n",
    "# #roubaix\n",
    "# delta1_threshold = 6\n",
    "# search_window = 33\n",
    "\n",
    "# #LBL\n",
    "# delta1_threshold = 6.6\n",
    "# search_window = 30\n",
    "\n",
    "index = search_window\n",
    "\n",
    "pickle_model=\"goal_model.p\"\n",
    "pickle_count=\"vectorizerCount.p\"\n",
    "pickle_tfidf=\"vectorizerTFIDF.p\"\n",
    "pickle_scaler=\"scaler.p\"\n",
    "\n",
    "delta2_threshold=0.25\n",
    "# #GW\n",
    "# delta2_threshold=0.25\n",
    "\n",
    "# #roubaix\n",
    "# delta2_threshold=0.30\n",
    "\n",
    "# #LBL\n",
    "# delta2_threshold=0.25\n",
    "\n",
    "model=pickle.load(open(pickle_model,\"rb\"))\n",
    "vect=pickle.load(open(pickle_count,\"rb\"))\n",
    "tf_transformer=pickle.load(open(pickle_tfidf,\"rb\"))\n",
    "min_max_scaler = pickle.load(open(pickle_scaler,\"rb\"))\n",
    "goal_seconds=[-100]\n",
    "preprocessor=PreProcessor()\n",
    "\n",
    "while index < N_points - search_window:\n",
    "    window_first_half = sum_window(points_of_graph, index-search_window//2, index)\n",
    "    window_2nd_half = sum_window(points_of_graph, index, index+search_window//2)\n",
    "    delta_1 = window_2nd_half/(window_first_half if window_first_half!=0 else 1)\n",
    "    if delta_1 > delta1_threshold:\n",
    "        print(\"Highlight found between \" + (START_TIME + timedelta(seconds=(index-search_window//2))).strftime(\"%H:%M:%S\")+\" - \" +(START_TIME+timedelta(seconds=(index+search_window//2))).strftime(\"%H:%M:%S\"))\n",
    "    \n",
    "        search_index=index\n",
    "        total_tweets=0\n",
    "        goal_tweets=0\n",
    "\n",
    "        while search_index < index+search_window//2:\n",
    "            if search_index in tweet_dictionary:\n",
    "                for tweet in tweet_dictionary[search_index]:\n",
    "                    # Vectorize to word features\n",
    "                    tweet_list=[preprocessor.preProcess(tweet.tweet)]\n",
    "                    tweets_vector = vect.transform(tweet_list)\n",
    "                    tweets_vector_tf = tf_transformer.transform(tweets_vector)\n",
    "\n",
    "                    # Add custom features\n",
    "                    tweets_matrix=tweets_vector_tf\n",
    "                    # define new matrix with size (nr_of_tweets,nr_of_features)\n",
    "                    custom_features=np.zeros((1,2))\n",
    "                    cfe = CustomFeatureExtractor()\n",
    "                    custom_features[0,0]=cfe.countExclamationMarks((tweet.tweet))\n",
    "                    custom_features[0,1]=cfe.countWordsInCapitalLetters((tweet.tweet))\n",
    "\n",
    "                    # merge word features and custom features\n",
    "                    tweets_matrix=hstack([tweets_vector_tf,custom_features])\n",
    "\n",
    "                    #scale\n",
    "                    tweets_matrix = min_max_scaler.transform(tweets_matrix.toarray())\n",
    "\n",
    "                    #predict\n",
    "                    prediction = model.predict(tweets_matrix)\n",
    "\n",
    "                    # check if goal tweet\n",
    "                    if prediction[0]==1:\n",
    "                        goal_tweets+=1\n",
    "                    total_tweets+=1\n",
    "            search_index+=1\n",
    "\n",
    "        if goal_tweets / total_tweets > delta2_threshold:\n",
    "            goal_seconds.append(index)\n",
    "            print(\"event detected\")\n",
    "\n",
    "    index+=1\n",
    "    \n",
    "print(\"\\nSummary:\")\n",
    "for i in range(len(goal_seconds)-1):\n",
    "    # if difference between 2 different event moments is bigger than 30 seconds, assume new event\n",
    "    if goal_seconds[i+1]-goal_seconds[i]>30:\n",
    "        print(\"Fall detected around \"+(START_TIME+timedelta(seconds=(goal_seconds[i+1]))).strftime(\"%H:%M:%S\"))"
   ]
  },
  {
   "cell_type": "markdown",
   "metadata": {},
   "source": [
    "Select an event type, select some representative tweets for that event type and label them (select for both classes the same amount of tweets)"
   ]
  },
  {
   "cell_type": "markdown",
   "metadata": {},
   "source": [
    "type: falls"
   ]
  },
  {
   "cell_type": "code",
   "execution_count": 43,
   "metadata": {},
   "outputs": [
    {
     "name": "stdout",
     "output_type": "stream",
     "text": [
      "0.8982310539645431\n"
     ]
    }
   ],
   "source": [
    "annotated_tweets = AnnotationReader.readTsvFile(\"./cycling_annotated.tsv\")\n",
    "corpus=[]\n",
    "labels=np.zeros(len(annotated_tweets))\n",
    "preprocessor=PreProcessor()\n",
    "\n",
    "#######################################################\n",
    "# Preprocess corpus                                   #\n",
    "#######################################################\n",
    "index=0\n",
    "for index in range(len(annotated_tweets)):\n",
    "    corpus.append(preprocessor.preProcess(annotated_tweets[index].tweet))\n",
    "    labels[index]=annotated_tweets[index].label\n",
    "    index+=1\n",
    "\n",
    "#######################################################\n",
    "# Vectorize to word features                          #\n",
    "#######################################################\n",
    "vect = CountVectorizer(min_df=1)\n",
    "tweets_vector = vect.fit_transform(corpus)\n",
    "tf_transformer = TfidfTransformer(use_idf=False).fit(tweets_vector)\n",
    "tweets_vector_tf = tf_transformer.transform(tweets_vector)\n",
    "\n",
    "# define new matrix with size (nr_of_tweets,nr_of_features)\n",
    "custom_features=np.zeros((tweets_vector_tf.shape[0],2))\n",
    "cfe = CustomFeatureExtractor()\n",
    "index=0\n",
    "for index in range(len(annotated_tweets)):\n",
    "    custom_features[index,0]=cfe.countExclamationMarks((annotated_tweets[index].tweet))\n",
    "    custom_features[index,1]=cfe.countWordsInCapitalLetters((annotated_tweets[index].tweet))\n",
    "    index+=1\n",
    "\n",
    "# merge word features and custom features\n",
    "tweets_matrix=hstack([tweets_vector_tf,custom_features])\n",
    "min_max_scaler = preprocessing.MinMaxScaler()\n",
    "tweets_matrix = min_max_scaler.fit_transform(tweets_matrix.toarray())\n",
    "clf = svm.SVC(C = 10, gamma = 0.1)\n",
    "clf.fit(tweets_matrix,labels)\n",
    "scores = cross_validation.cross_val_score(clf, tweets_matrix,labels, cv=5)\n",
    "print(np.mean(scores))"
   ]
  },
  {
   "cell_type": "code",
   "execution_count": 44,
   "metadata": {},
   "outputs": [
    {
     "name": "stdout",
     "output_type": "stream",
     "text": [
      "[u'00', u'0ihwif1efq', u'0u9km58xwh', u'0vjgksfzdp', u'10', u'10min', u'125', u'13km', u'1er', u'1rv7zmbrs', u'2013', u'2014', u'22', u'24', u'2ac6ino6hw', u'2ntjqualy9', u'36', u'3e', u'3van', u'4scvsh2qx3', u'4vljwqb4pr', u'50km', u'54isokmpk1', u'54vu37qpqi', u'55', u'5am', u'5f3f4uftzw', u'5guxw5erpe', u'5h', u'5min', u'75e', u'7am', u'7e', u'87', u'8xskkg1os7', u'91', u'_cyclegirl_', u'_f_playername_', u'_l_playername_', u'_team_hashtag_', u'aai', u'aalst', u'abdu', u'about', u'achterwiel', u'acros', u'actief', u'actualy', u'ad', u'adinkerke', u'afgan', u'afgelast', u'afrontar', u'afzien', u'again', u'against', u'agentschap', u'ah', u'aha', u'ahaha', u'ahead', u'ai', u'aicar', u'aie', u'air', u'aj', u'al', u'alay', u'alen', u'ales', u'aleys', u'alez', u'already', u'also', u'amp', u'an', u'and', u'ander', u'andere', u'anders', u'andien', u'angepast', u'ank', u'ankomst', u'antartica', u'anticipation', u'anticiperen', u'antwerpen', u'anwezigheid', u'apuesta', u'arbre', u'are', u'aren', u'arenberg', u'around', u'asfalt', u'at', u'atenci\\xf3n', u'atuhla', u'atuhlah', u'aunque', u'ausies', u'auw', u'aventure', u'avermaet', u'avid', u'avoir', u'awake', u'away', u'awkwk', u'b3m', u'b3mlin74tz', u'back', u'badly', u'baghjul', u'banen', u'banget', u'bas', u'bastard', u'be', u'beautiful', u'because', u'bedankt', u'before', u'bego', u'belden', u'belga', u'belgi\\xeb', u'ben', u'benieuwd', u'beschiking', u'beslising', u'bespeuren', u'beter', u'beton', u'bici', u'big', u'bigernproblems', u'bij', u'bike', u'bikes', u'bils', u'binenland', u'bisiklet', u'bkn', u'blackmilk', u'blang', u'bleu', u'blijft', u'blijven', u'bloged', u'bm1i7mophp', u'bonen', u'boredom', u'bowl', u'boyhodream', u'bozic', u'break', u'briliant', u'brod', u'broeken', u'bs7cof5ka7', u'bublegum', u'buenos', u'buger', u'bunch', u'bunuh', u'burt', u'bus', u'but', u'by', u'bye', u'b\\xfcy\\xfcleyici', u'cabalito', u'can', u'cancelara', u'canceled', u'car', u'carefour', u'casel', u'caselberg', u'casta\\xf1azo', u'catsberg', u'cavendish', u'ca\\xedda', u'cdalepro', u'celebraci\\xf3n', u'cg0gfhk5rf', u'champagneandcobles', u'chance', u'check', u'chocomelk', u'christmasinapril', u'chute', u'ch\\xe2teau', u'ciclismo', u'ciel', u'cihumicwr8', u'cinta', u'cipo', u'circus', u'city', u'ck0bllsevn', u'ckck', u'clasica', u'clasics', u'climate', u'cm', u'co', u'coach', u'cobles', u'cold', u'colone', u'colqio4f0r', u'comes', u'comido', u'compiegne', u'compi\\xe8gne', u'congrats', u'could', u'counted', u'counting', u'coupe', u'couvert', u'cradling', u'crash', u'crashed', u'crashes', u'craving', u'crosedfingers', u'culcheth', u'cup', u'cycleboredom', u'cycling', u'c\\xf4t\\xe9s', u'da', u'dado', u'dagje', u'dalamnya', u'damn', u'dan', u'dangerous', u'dar', u'darom', u'dat', u'day', u'de', u'defendourplanet', u'deinze', u'deket', u'del', u'delnemersveld', u'dels', u'den', u'denk', u'dergelijke', u'desayunando', u'deserves', u'details', u'deze', u'die', u'diene', u'dik', u'dikpaksneuw', u'diksmuide', u'dit', u'do', u'doen', u'doesn', u'doh', u'doing', u'dola', u'dolorido', u'domingo', u'don', u'dor', u'dorgan', u'dorpke', u'dortrapen', u'down', u'drank', u'dream', u'dres', u'dtv', u'du', u'duel', u'during', u'dus', u'dwshpdprys', u'd\\xedas', u'e3h', u'eflw0mqxog', u'elk', u'em', u'en', u'end', u'enkel', u'enkele', u'ens', u'ensuite', u'enui', u'eodokcrd', u'epic', u'epo', u'er', u'eran', u'erbij', u'erder', u'erelijst', u'erg', u'especialy', u'et', u'even', u'eventuel', u'excited', u'experience', u'extreme', u'exw0wae3h8', u'eye', u'face', u'familiar', u'fan', u'fans', u'far', u'fashions', u'favorite', u'fb', u'fedback', u'fejrede', u'fet', u'feyenord', u'finale', u'finish', u'first', u'flag', u'flanders', u'flor', u'fly', u'for', u'form', u'foto', u'frankrijk', u'french', u'frenchman', u'frezin', u'from', u'frozen', u'fucking', u'funy', u'gabisa', u'gaet', u'galery', u'game', u'gan', u'ganapostando', u'gara', u'gat', u'gaya', u'gebeden', u'gebeuren', u'gedan', u'gegaranderd', u'gele', u'geleden', u'gelukig', u'gen', u'genial', u'genieten', u'genoeg', u'gent', u'gentwevelgem', u'gereden', u'geschreven', u'gespeld', u'get', u'geting', u'gevalen', u'gevloek', u'gewend', u'gewest', u'gewon', u'gezien', u'gezocht', u'ghent', u'gheysens', u'giga', u'ging', u'gistel', u'give', u'given', u'gives', u'giving', u'go', u'god', u'godmiljar', u'godnes', u'goed', u'goede', u'goeie', u'going', u'gona', u'got', u'gr8', u'grag', u'gramar', u'grande', u'grape', u'great', u'greipel', u'grijpt', u'grimas', u'groetjes', u'grond', u'grotste', u'gues', u'guide', u'gw', u'ha', u'habitu\\xe9s', u'haha', u'hahaha', u'hahahaha', u'halen', u'halve', u'hard', u'hardman', u'has', u'hashtag', u'have', u'he', u'heb', u'heben', u'heft', u'hel', u'hele', u'helestof', u'helofthenorth', u'hem', u'herbe', u'here', u'herself', u'het', u'heueuh', u'hevige', u'hier', u'hieruit', u'hij', u'him', u'hint', u'his', u'hitin', u'hlvpykdbiq', u'hoe', u'hoera', u'hoevelheden', u'hogdag2', u'holding', u'home', u'hop', u'hope', u'hopefuly', u'hopelijk', u'hopelijksmeltdatsnel', u'horific', u'hotel', u'ht', u'htp', u'htps', u'humans', u'hun', u'hurt', u'hyguixrx9j', u'ice', u'ie', u'iederen', u'iemand', u'iets', u'if', u'ijizig', u'ijspleken', u'ik', u'ils', u'images', u'impecatering', u'in', u'includes', u'incredible', u'indetijdvanjean', u'indetijdvanrogerdevlaeminck', u'indore', u'inhaleren', u'inside', u'instaweather', u'instaweatherpro', u'interesting', u'into', u'is', u'island', u'ist', u'it', u'itu', u'iwowfhx7po', u'iya', u'j3jukzsghi', u'j3shnyupix', u'jamer', u'jar', u'jaren', u'jasen', u'jelek', u'jens', u'jg', u'jga', u'jiah', u'jkr9x0pxym', u'joe', u'journalists', u'junioren', u'just', u'kabur', u'kan', u'kanten', u'karsjes', u'kaseien', u'kelsey', u'kemel', u'ker', u'keren2', u'kezsswc20', u'kg', u'kijken', u'king', u'kipenvel', u'klapt', u'klar', u'klasbak', u'klasieker', u'klopen', u'km', u'kmpungan', u'kne', u'knie', u'know', u'koers', u'koersen', u'koerswer', u'kok', u'kom', u'komen', u'komt', u'kop', u'koud', u'kt4zrkrxqb', u'kumaha', u'kxl', u'k\\xf8re', u'l6bvz2vzos', u'la', u'labour\\xe9s', u'lady', u'lag', u'lah', u'langs', u'lat', u'laten', u'latste', u'lax', u'le', u'leading', u'least', u'left', u'legend', u'leiden', u'leon', u'les', u'let', u'lets', u'le\\xf1azo', u'ligen', u'ligt', u'lijkt', u'like', u'likeabos', u'line', u'list', u'listener', u'literalmente', u'live', u'livestream', u'ljrsiscbna', u'lo', u'loe', u'lok', u'loked', u'loks', u'lokwhereyourgoing', u'long', u'loser', u'lot', u'lots', u'luc', u'luca', u'lucht', u'luck', u'luego', u'mad', u'made', u'mag', u'magnifique', u'maid0fmset', u'maintaining', u'makeabet', u'makin', u'mal', u'man', u'mandag', u'maneh', u'manier', u'mar', u'mariededecker', u'mate', u'material', u'matige', u'matin', u'may', u'maybe', u'me', u'mean', u'med', u'mediana', u'men', u'menudo', u'mer', u'met', u'meteo', u'meter', u'metido', u'meting', u'mh', u'michael', u'midelkerke', u'midle', u'mij', u'miljar', u'minder', u'mischien', u'moeren', u'moet', u'moeten', u'mogelijk', u'moi', u'moie', u'moment', u'monumento', u'morgen', u'moyen', u'mpo', u'msih', u'much', u'mug', u'must', u'my', u'my1rfr1emr', u'na', u'na6so7k4fa', u'nah', u'namen', u'nap', u'naping', u'nar', u'nature', u'naturlijk', u'ne', u'nedyuou8qg', u'net', u'never', u'ngmbg', u'nie', u'niet', u'niets', u'nieuwport', u'nieuws', u'niks', u'nkhemxjdl0', u'no', u'nochtans', u'nodzakelijk', u'nog', u'nokxl', u'nora', u'nord', u'nordpol', u'not', u'notarsands', u'notengomasquea\\xf1adir', u'np', u'nr', u'nu', u'nueva', u'oan', u'ochtendrit', u'oelala', u'of', u'of9z6kbedg', u'oficial', u'ofredo', u'oftopic', u'og', u'oh', u'ohow', u'ohyr', u'ohyr647srf', u'ok', u'olympische', u'om', u'on', u'once', u'ondergesneuwde', u'onderuit', u'one', u'only', u'ont', u'ontgocheld', u'ontsnapt', u'ontwaken', u'onze', u'ook', u'oost', u'oostende', u'op', u'opgestoken', u'opleten', u'opq', u'opqs', u'opqscyclingteam', u'orde', u'organisatiecomit\\xe9', u'ouch', u'out', u'outdors', u'outsider', u'over', u'overmacht', u'overwining', u'overwiningen', u'pac', u'pacman', u'pain', u'painful', u'pajotenland', u'pak', u'paolini', u'para', u'parcours', u'parece', u'parijs', u'paris', u'parisroubaix', u'party', u'pas', u'pav\\xe9', u'pav\\xe9s', u'paysage', u'peloton', u'people', u'perbata', u'performans', u'perhaps', u'peter', u'peters', u'phiney', u'photo', u'photofinish', u'phtography', u'pick', u'piepen', u'pijn', u'pijnlijk', u'pinta', u'pips', u'pix', u'place', u'plane', u'plats', u'please', u'plenty', u'pndk', u'pny', u'podium', u'poperinge', u'por', u'posted', u'pouront', u'power', u'pr', u'prachtige', u'preview', u'problem', u'problematische', u'profiter', u'proud', u'ps', u'ptn', u'puede', u'put', u'pxzeravbr', u'p\\xe5', u'q9zgzqn3pm', u'qoqndtauuv', u'qua', u'que', u'question', u'quick', u'quieter', u'quite', u'r5jub5ofwb', u'race', u'radio', u'rain', u'raise', u'raking', u'rdc8trowsa', u're', u'reach', u'ready', u'realy', u'regio', u'reners', u'reserve', u'reserved', u'respect', u'result', u'rich', u'richting', u'ride', u'rider', u'riders', u'right', u'rijden', u'rijdt', u'rilingen', u'rip', u'roads', u'roeselare', u'roger', u'rolen', u'rond', u'ronde', u'roubaix', u'rouler', u'rqfeupd0xp', u'rqkimr6fo6', u'rslt', u'rt', u'runkeper', u'rv', u's3jorlplr2', u'sabr', u'sagan', u'saint', u'salto', u'saltometschroef', u'samen', u'say', u'sbs', u'schandalige', u'schiterend', u'scholarships', u'schroef', u'se', u'seamles', u'secteur', u'seguir', u'sejren', u'serem', u'se\\xf1al', u'shit', u'shock', u'short', u'sign', u'simone', u'since', u'sky', u'slakengang', u'slecht', u'slep', u'slovakia', u'smal', u'smiling', u'smua', u'snelwegen', u'sneuw', u'sneuwketingen', u'sneuwval', u'sneuwvlok', u'sneuwvrij', u'snow', u'so', u'solo', u'solution', u'some', u'someone', u'spanend', u'specialiteit', u'spektakel', u'spijs', u'sporthurts', u'sporza', u'sporza_koers', u'spreken', u'st', u'stan', u'stanard', u'start', u'starte', u'status', u'stayhard', u'stelen', u'stels', u'sterke', u'stil', u'sting', u'stoeprand', u'stones', u'stopen', u'straks', u'streaming', u'stregen', u'strep', u'stres', u'stroidiensten', u'strongest', u'stybi', u'sunda', u'suny', u'super', u'sur', u'surely', u'syarat', u'take', u'tanpa', u'tarsands', u'tb0uwoy7zj', u'tcju5ss319', u'te', u'team', u'tear', u'tegen', u'tely', u'temperature', u'tenemos', u'ter', u'tere', u'that', u'the', u'then', u'there', u'they', u'think', u'thinking', u'this', u'thoughts', u'thre', u'thuis', u'tijd', u'time', u'times', u'to', u'tocafondi', u'toch', u'today', u'toe', u'toen', u'toestand', u'toilet', u'tok', u'told', u'tom', u'tombo', u'tomeke', u'tomekedown', u'tomorow', u'tonight', u'top', u'tot', u'tqamtwnxuo', u'trafic', u'trainen', u'treken', u'trick', u'truiden', u'tuh', u'tune', u'tusen', u'tv', u'twe', u'twets', u'twijfelen', u'u6irrgcjq1', u'ucla', u'udytmb11o1', u'uhuy', u'uit', u'uitstel', u'una', u'unieke', u'until', u'up', u'us', u'us6m5tu9wx', u'using', u'vacansoleil', u'val', u'valpartij', u'valt', u'van', u'vandaele', u'vandag', u'vanmidag', u'vansumeren', u'vaya', u've', u'vel', u'veldritparcours', u'velers', u'velortbf', u'vent', u'ver', u'veranderen', u'verantword', u'verdienen', u'verhal', u'verker', u'version', u'versus', u'vert', u'verte', u'vertrek', u'vertreken', u'vertroken', u'verwacht', u'very', u'via', u'victoire', u'victory', u'video', u'vieren', u'vip', u'vlaeminck', u'vlagen', u'vlaming', u'vlamsevlag', u'vlanderen', u'vliegt', u'vndg', u'volgens', u'vor', u'vorbereid', u'vordat', u'vorig', u'vorlopig', u'vorstel', u'voruit', u'vorziter', u'vrijdag', u'vrn84vs0x5', u'vrnvrn', u'v\\xe9lo', u'v\\xe9lodrome', u'w0c0fpkrjv', u'w3j3312bp3', u'wachten', u'wait', u'walk', u'wana', u'want', u'war', u'waregem', u'warme', u'was', u'wat', u'watch', u'way', u'we', u'weather', u'weg', u'wegen', u'weh', u'wekend', u'wel', u'welkom', u'wer', u'wereld', u'werk', u'werkgroep', u'wersomstandigheden', u'west', u'westhoek', u'wevelgem', u'what', u'whelie', u'whelies', u'wheling', u'when', u'wielrenen', u'wil', u'win', u'winar', u'wining', u'wins', u'wint', u'winter', u'winterspelen', u'wit', u'with', u'wkwk', u'women', u'won', u'wonderlits', u'wont', u'word', u'worden', u'wordt', u'work', u'world', u'would', u'ws', u'wy5d0ejcuy', u'x3iez3cldv', u'ya', u'yang', u'yb7chyygou', u'ybpdrsjpc1', u'ye9jtcx0vj', u'yeke', u'yep', u'yet', u'yg', u'you', u'yourself', u'ysubwv7ez', u'za', u'zadel', u'zafer', u'zag', u'zal', u'zat', u'ze', u'zelfmord', u'zene', u'zichzelf', u'zie', u'zien', u'ziet', u'zij', u'zijn', u'zit', u'ziten', u'zjyoegjztf', u'zo', u'zoals', u'zone', u'zotegem', u'zou', u'zrjucd9s0w', u'zulen', u'zune', u'zwakste', u'\\xe9viter', u'\\u015fovu']\n"
     ]
    }
   ],
   "source": [
    "pickle.dump(clf,open(\"goal_model.p\",\"wb\"))\n",
    "pickle.dump(tf_transformer,open(\"vectorizerTFIDF.p\",\"wb\"))\n",
    "pickle.dump(vect,open(\"vectorizerCount.p\",\"wb\"))\n",
    "pickle.dump(min_max_scaler,open(\"scaler.p\",\"wb\"))\n",
    "print(vect.get_feature_names())"
   ]
  },
  {
   "cell_type": "code",
   "execution_count": null,
   "metadata": {},
   "outputs": [],
   "source": []
  }
 ],
 "metadata": {
  "kernelspec": {
   "display_name": "Python 2",
   "language": "python",
   "name": "python2"
  },
  "language_info": {
   "codemirror_mode": {
    "name": "ipython",
    "version": 2
   },
   "file_extension": ".py",
   "mimetype": "text/x-python",
   "name": "python",
   "nbconvert_exporter": "python",
   "pygments_lexer": "ipython2",
   "version": "2.7.15"
  },
  "name": "tutorial.ipynb"
 },
 "nbformat": 4,
 "nbformat_minor": 1
}
